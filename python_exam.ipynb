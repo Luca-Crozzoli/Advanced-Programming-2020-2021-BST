{
 "cells": [
  {
   "cell_type": "markdown",
   "metadata": {},
   "source": [
    "## Reverse dictionary\n",
    "\n",
    "Given the following `dict` `d` compute the reverse dictionary `rd`. Let `k_d` and `v_d` be the keys and values of `d`, respectively. The keys of `rd` `k_rd` are all the integer numbers contained in all the `v_d`. The values of `rd` are lists containing all the keys `k_d` where `k_rd` is inside the corresponding `v_d`. For example\n",
    "```python\n",
    "d  = {\"a\": [1, 2, 3], \"b\": [45, 6], \"c\": [2, 45]}\n",
    "\n",
    "rd = {1: [\"a\"], 2: [\"a\", \"c\"], 3: [\"a\"], 6: [\"b\"], 45: [\"b\", \"c\"]}\n",
    "```\n",
    "\n",
    "If you do not write the proper code, the computational time might exceed the time given for the exam! Numpy is not required.\n",
    "\n",
    "Hints: \n",
    "- comprehensions are your friend.\n",
    "- work on a small dictionay, once you are satisfied with your code, apply it to the big `d`\n",
    "- you can use the `test_exam.py` to test your implementation running `pytest test_exam.py` "
   ]
  },
  {
   "cell_type": "code",
   "execution_count": 12,
   "metadata": {},
   "outputs": [
    {
     "name": "stdout",
     "output_type": "stream",
     "text": [
      "A0 : [7, 190]\n",
      "A1 : [63, 58, 36, 189, 27]\n",
      "A2 : [23, 152, 109, 9, 8, 24, 56, 60, 130]\n",
      "A3 : [7, 144, 51, 184, 167, 180, 140, 108, 57, 115]\n",
      "A4 : [72, 2, 195, 41, 179, 109, 88, 72, 40, 56]\n",
      "A5 : [27, 24, 98, 25, 92, 89]\n",
      "A6 : [68, 12, 187, 118, 138, 32, 97, 21, 142, 76]\n",
      "A7 : [93, 148, 50, 181, 18, 12, 170, 59, 198, 75]\n",
      "A8 : [60, 26]\n",
      "A9 : [72, 117, 163, 94, 42, 95, 91]\n",
      "A10 : [172, 69, 180, 175]\n"
     ]
    }
   ],
   "source": [
    "chars = \"qwertyuiopasdfghjklzxcvbnm\" \n",
    "chars = sorted(chars.upper() + chars)\n",
    "\n",
    "keys = [c + str(n) for c in chars for n in range(100)] \n",
    "import random\n",
    "\n",
    "random.seed(42)\n",
    "\n",
    "d = {k: [random.randint(1, 200) for _ in range(random.randint(1, 10))] for k in keys} \n",
    "\n",
    "for i, (k, v) in enumerate(d.items()):\n",
    "    print(k, \":\", v)\n",
    "    if i == 10:\n",
    "        break"
   ]
  },
  {
   "cell_type": "code",
   "execution_count": 13,
   "metadata": {},
   "outputs": [
    {
     "name": "stdout",
     "output_type": "stream",
     "text": [
      "6.79 ms ± 500 µs per loop (mean ± std. dev. of 7 runs, 100 loops each)\n"
     ]
    }
   ],
   "source": [
    "%%timeit\n",
    "def reverse_dict(d):\n",
    "    reverse = {}\n",
    "    for key,values in d.items(): #tuple unpacking\n",
    "        for reverse_key in set(values):\n",
    "            if reverse_key in reverse:\n",
    "                reverse[reverse_key].append(key)\n",
    "            else:\n",
    "                reverse[reverse_key] = [key]\n",
    "    return reverse\n",
    "\n",
    "rd = reverse_dict(d)"
   ]
  },
  {
   "cell_type": "markdown",
   "metadata": {},
   "source": [
    "## Examples made before writing the code to see how to solve the assignment\n",
    "### Try to add a new value to an existing key in a dictionary"
   ]
  },
  {
   "cell_type": "code",
   "execution_count": 14,
   "metadata": {},
   "outputs": [
    {
     "name": "stdout",
     "output_type": "stream",
     "text": [
      "{'a': [1], 'b': [2]}\n",
      "the dictionary after the potentially insertion of a new value in the key\n",
      " {'a': [1, 1], 'b': [2]}\n"
     ]
    }
   ],
   "source": [
    "dict = {\"a\":[1],\"b\":[2]}\n",
    "print(dict)\n",
    "key= \"a\"\n",
    "if key in dict:\n",
    "    dict[key].append(1)\n",
    "else:\n",
    "    print(\"There is no key in the dict\")\n",
    "\n",
    "print(\"the dictionary after the insertion of a new value in the key\\n\", dict)"
   ]
  },
  {
   "cell_type": "markdown",
   "metadata": {},
   "source": [
    "### Try to delete the duplicate values in each list for each key"
   ]
  },
  {
   "cell_type": "code",
   "execution_count": 15,
   "metadata": {},
   "outputs": [
    {
     "name": "stdout",
     "output_type": "stream",
     "text": [
      "dictionary with a value that contains a list with duplicates\n",
      "{'a': [1, 1], 'b': [2]}\n",
      "dictionary after the delition fo the duplicates in the list contained in value\n",
      "{'a': [1], 'b': [2]}\n"
     ]
    }
   ],
   "source": [
    "print(\"dictionary with a value that contains a list with duplicates\")\n",
    "print(dict)\n",
    "for k,v in dict.items(): #items return a tuple, we are using tuple unpacking to have the values and the keys\n",
    "    unique_value_set = set(v)\n",
    "    l=list(unique_value_set)\n",
    "    dict[k]= None\n",
    "    dict[k]= l\n",
    "print(\"dictionary after the deletion of the duplicates in the list contained in value\")\n",
    "print(dict)\n",
    "    "
   ]
  },
  {
   "cell_type": "markdown",
   "metadata": {},
   "source": [
    "### Try to implement the function with a small dictionary and print it"
   ]
  },
  {
   "cell_type": "code",
   "execution_count": 16,
   "metadata": {},
   "outputs": [
    {
     "name": "stdout",
     "output_type": "stream",
     "text": [
      "A0 : [1]\n",
      "A1 : [2, 2, 2]\n",
      "B0 : [5]\n",
      "B1 : [5]\n",
      "a0 : [1, 1, 1, 2]\n",
      "a1 : [5, 5]\n",
      "b0 : [5]\n",
      "b1 : [5, 4]\n"
     ]
    }
   ],
   "source": [
    "chars = \"ab\" \n",
    "chars = sorted(chars.upper() + chars) # A,B,a,b\n",
    "\n",
    "keys = [c + str(n) for c in chars for n in range(2)] #A0,A1,B0,B1,a0,a1,b0,b1\n",
    "\n",
    "import random\n",
    "\n",
    "random.seed(42)\n",
    "\n",
    "d = {k: [random.randint(1, 5) for _ in range(random.randint(1, 4))] for k in keys} # values = list comprehension\n",
    "\n",
    "for i, (k, v) in enumerate(d.items()):\n",
    "    print(k, \":\", v)\n",
    "    if i == 7: \n",
    "        break"
   ]
  },
  {
   "cell_type": "code",
   "execution_count": 21,
   "metadata": {},
   "outputs": [
    {
     "name": "stdout",
     "output_type": "stream",
     "text": [
      "voice: 0 ( A0 , [1] )\n",
      "list with no repetitions:  {1}\n",
      " \n",
      "voice: 1 ( A1 , [2, 2, 2] )\n",
      "list with no repetitions:  {2}\n",
      " \n",
      "voice: 2 ( B0 , [5] )\n",
      "list with no repetitions:  {5}\n",
      " \n",
      "voice: 3 ( B1 , [5] )\n",
      "list with no repetitions:  {5}\n",
      " \n",
      "voice: 4 ( a0 , [1, 1, 1, 2] )\n",
      "list with no repetitions:  {1, 2}\n",
      " \n",
      "voice: 5 ( a1 , [5, 5] )\n",
      "list with no repetitions:  {5}\n",
      " \n",
      "voice: 6 ( b0 , [5] )\n",
      "list with no repetitions:  {5}\n",
      " \n",
      "voice: 7 ( b1 , [5, 4] )\n",
      "list with no repetitions:  {4, 5}\n",
      " \n",
      "THI IS THE RESULT OF THE REVERS_DICT FUNCTION\n",
      "\n",
      "{1: ['A0', 'a0'], 2: ['A1', 'a0'], 5: ['B0', 'B1', 'a1', 'b0', 'b1'], 4: ['b1']}\n"
     ]
    }
   ],
   "source": [
    "def reverse_dict(d):\n",
    "    reverse = {}\n",
    "    for i, (key,values) in enumerate(d.items()): #items return a tuple, to iterate on key and value we used the tuple unpacking k,v = tuple\n",
    "                                #with this for we are iterating over the single elements of the dictionary\n",
    "        print(\"voice:\",i,\"(\",key, \",\",values,\")\")\n",
    "        print(\"list with no repetitions: \",set(values))\n",
    "        print(\" \")\n",
    "        for reverse_key in set(values):#We consider the set to avoid duplication of the values contained in the list\n",
    "            if reverse_key in reverse:\n",
    "                reverse[reverse_key].append(key)#if the reverse key is present in the reverse dictionary append to the value the key of the normal dictionary d\n",
    "            else:\n",
    "                reverse[reverse_key] = [key]# if the reverse key is not present in the reverse dictionary we simply add a new pair in the reverse dictionary with value = key\n",
    "    return reverse\n",
    "\n",
    "rd = reverse_dict(d)\n",
    "\n",
    "print(\"THI IS THE RESULT OF THE REVERS_DICT FUNCTION\")\n",
    "print(\"\")\n",
    "print(rd)"
   ]
  },
  {
   "cell_type": "code",
   "execution_count": null,
   "metadata": {},
   "outputs": [],
   "source": []
  }
 ],
 "metadata": {
  "kernelspec": {
   "display_name": "Python 3",
   "language": "python",
   "name": "python3"
  },
  "language_info": {
   "codemirror_mode": {
    "name": "ipython",
    "version": 3
   },
   "file_extension": ".py",
   "mimetype": "text/x-python",
   "name": "python",
   "nbconvert_exporter": "python",
   "pygments_lexer": "ipython3",
   "version": "3.8.5"
  }
 },
 "nbformat": 4,
 "nbformat_minor": 4
}
